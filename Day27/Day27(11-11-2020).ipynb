{
 "cells": [
  {
   "cell_type": "markdown",
   "metadata": {},
   "source": [
    "```\n",
    "Functional arguments\n",
    "     ->function ?\n",
    "     ->types[user - defined,predefined]\n",
    "     ->user-defined[4 types -> c language]\n",
    "     ->Arguments passing  ->4 types\n",
    "               ->required arguments -> arguments(*)\n",
    "               ->default arguments ->arguments(value=> ?,function call =>fixed)\n",
    "               ->keyword arguments -> arguments(function call,calling -> variable== equal values\n",
    "               ->variable length arguments(value -> value to  variable, n number values ->(iteration in function call,function =>[* tuple,** dictionary]\n",
    "               \n",
    "               \n",
    "               \n",
    "               \n",
    "             "
   ]
  },
  {
   "cell_type": "markdown",
   "metadata": {},
   "source": [
    "```\n",
    "Anonymous Function or function programming:\n",
    "----------------------------\n",
    "   ->Lambda -> anonyous function(keyword doesn't use in this function creation)"
   ]
  },
  {
   "cell_type": "markdown",
   "metadata": {},
   "source": [
    "function syntax:\n",
    "    \n",
    "def function_name(arguments):\n",
    "    '''Function doc_string'''\n",
    "    //Statements\n",
    "    return return_value\n",
    "\n",
    "Lambda Syntax:\n",
    "    \n",
    "lambda arguments:expression"
   ]
  },
  {
   "cell_type": "code",
   "execution_count": 5,
   "metadata": {},
   "outputs": [
    {
     "name": "stdout",
     "output_type": "stream",
     "text": [
      "4\n",
      "6\n",
      "10\n"
     ]
    }
   ],
   "source": [
    "def add(a,b):\n",
    "    return a+b\n",
    "m=int(input())\n",
    "n=int(input())\n",
    "print(add(m,n))"
   ]
  },
  {
   "cell_type": "code",
   "execution_count": 8,
   "metadata": {},
   "outputs": [
    {
     "name": "stdout",
     "output_type": "stream",
     "text": [
      "2\n",
      "1\n",
      "13\n"
     ]
    }
   ],
   "source": [
    "d= lambda a,b,:a+b+10\n",
    "print(d(int(input()),int(input())))"
   ]
  },
  {
   "cell_type": "markdown",
   "metadata": {},
   "source": [
    "```\n",
    "Map:\n",
    "    ->It can be used to change the data type of an iterator\n",
    "    ->Syntax:\n",
    "      map(function,iterator) or map(datatype,iterator)\n",
    "```"
   ]
  },
  {
   "cell_type": "code",
   "execution_count": 12,
   "metadata": {},
   "outputs": [
    {
     "name": "stdout",
     "output_type": "stream",
     "text": [
      " 4 5 6 7 8 9\n",
      "[4, 5, 6, 7, 8, 9]\n"
     ]
    }
   ],
   "source": [
    "s= input().split()\n",
    "r= []\n",
    "for l in s:\n",
    "    r.append(int(l))\n",
    "print(r)"
   ]
  },
  {
   "cell_type": "code",
   "execution_count": 13,
   "metadata": {},
   "outputs": [
    {
     "name": "stdout",
     "output_type": "stream",
     "text": [
      " 4 5 6 7 8\n",
      "[4, 5, 6, 7, 8]\n"
     ]
    }
   ],
   "source": [
    "e=list(map(int,input().split()))\n",
    "print(e)"
   ]
  },
  {
   "cell_type": "code",
   "execution_count": 14,
   "metadata": {},
   "outputs": [
    {
     "name": "stdout",
     "output_type": "stream",
     "text": [
      "[True, False, True, False]\n"
     ]
    }
   ],
   "source": [
    "y=[6,7,8,9]\n",
    "r=list(map(lambda s:s%2==0,y))\n",
    "print(r)"
   ]
  },
  {
   "cell_type": "code",
   "execution_count": 18,
   "metadata": {},
   "outputs": [
    {
     "name": "stdout",
     "output_type": "stream",
     "text": [
      "4 3 6\n",
      "[True, False, False, True, False]\n"
     ]
    }
   ],
   "source": [
    "def mlt(u):\n",
    "    s=[]\n",
    "    for k in u:\n",
    "        if k%2==0:\n",
    "            s.append(True)\n",
    "        s.append(False)\n",
    "    return s\n",
    "\n",
    "r=list(map(int,input().split()))\n",
    "print(mlt(r))"
   ]
  },
  {
   "cell_type": "code",
   "execution_count": 20,
   "metadata": {},
   "outputs": [
    {
     "name": "stdout",
     "output_type": "stream",
     "text": [
      "3 4 5\n",
      "[True, False, False]\n"
     ]
    }
   ],
   "source": [
    "def Tml(h):\n",
    "    return h%3==0\n",
    "\n",
    "e=input().split()\n",
    "q=[]\n",
    "for m in e:\n",
    "    q.append(int(m))\n",
    "print(list(map(Tml,q)))"
   ]
  },
  {
   "cell_type": "code",
   "execution_count": 21,
   "metadata": {},
   "outputs": [
    {
     "name": "stdout",
     "output_type": "stream",
     "text": [
      " 3 4 5 6 7 8 9\n",
      "[True, False, False, True, False, False, True]\n"
     ]
    }
   ],
   "source": [
    "print(list(map(lambda t:t%3==0,map(int,input().split()))))"
   ]
  },
  {
   "cell_type": "markdown",
   "metadata": {},
   "source": [
    "````\n",
    "Filter:\n",
    "    ->It prints only true values to an iterator\n",
    "    ->Syntax:\n",
    "      filter(functionname,iterator)\n",
    "````"
   ]
  },
  {
   "cell_type": "code",
   "execution_count": 22,
   "metadata": {},
   "outputs": [
    {
     "name": "stdout",
     "output_type": "stream",
     "text": [
      "3 4 5 6 7\n",
      "[3, 6]\n"
     ]
    }
   ],
   "source": [
    "def tmul(v):\n",
    "    return v%3==0\n",
    "j=list(map(int,input().split()))\n",
    "print(list(filter(tmul,j)))"
   ]
  },
  {
   "cell_type": "code",
   "execution_count": 24,
   "metadata": {},
   "outputs": [
    {
     "name": "stdout",
     "output_type": "stream",
     "text": [
      "3 4 5 6 7\n",
      "[3, 6]\n"
     ]
    }
   ],
   "source": [
    "print(list(filter(lambda a:a%3==0,map(int,input().split()))))"
   ]
  },
  {
   "cell_type": "code",
   "execution_count": 30,
   "metadata": {},
   "outputs": [
    {
     "name": "stdout",
     "output_type": "stream",
     "text": [
      "2 3 4 5 6 7\n",
      "[2]\n"
     ]
    }
   ],
   "source": [
    "print(list(filter(lambda e:e==2,map(int,input().split()))))"
   ]
  },
  {
   "cell_type": "code",
   "execution_count": 37,
   "metadata": {},
   "outputs": [
    {
     "name": "stdout",
     "output_type": "stream",
     "text": [
      "3 4 56 7 8 9 4 5 6\n",
      "[3, 4, 7, 8, 9, 4, 5, 6]\n"
     ]
    }
   ],
   "source": [
    "al= list(filter(lambda e:e<20,map(int,input().split())))\n",
    "print(list(filter(lambda r:r<10,al)))"
   ]
  },
  {
   "cell_type": "markdown",
   "metadata": {},
   "source": [
    "```\n",
    "   reduce:\n",
    "         ->It printd or else it returns only single value\n",
    "         ->syntax:\n",
    "                reduce(functionname,iterator)\n",
    "          ->It can be accesible by using import statement of functools\n",
    "```"
   ]
  },
  {
   "cell_type": "code",
   "execution_count": 42,
   "metadata": {},
   "outputs": [
    {
     "name": "stdout",
     "output_type": "stream",
     "text": [
      "23 40 5 67\n",
      "[23, 40, 67]\n",
      "130\n"
     ]
    }
   ],
   "source": [
    "from functools import reduce\n",
    "r= list(filter(lambda f:f>20,map(int,input().split())))\n",
    "print(r)\n",
    "print(reduce(lambda x,y:x+y,r))"
   ]
  },
  {
   "cell_type": "code",
   "execution_count": null,
   "metadata": {},
   "outputs": [],
   "source": []
  }
 ],
 "metadata": {
  "kernelspec": {
   "display_name": "Python 3",
   "language": "python",
   "name": "python3"
  },
  "language_info": {
   "codemirror_mode": {
    "name": "ipython",
    "version": 3
   },
   "file_extension": ".py",
   "mimetype": "text/x-python",
   "name": "python",
   "nbconvert_exporter": "python",
   "pygments_lexer": "ipython3",
   "version": "3.7.4"
  }
 },
 "nbformat": 4,
 "nbformat_minor": 4
}
