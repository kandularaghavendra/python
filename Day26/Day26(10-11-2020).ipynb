{
 "cells": [
  {
   "cell_type": "markdown",
   "metadata": {},
   "source": [
    "# few more ways of impleneting function in python\n",
    "      - default arguments\n",
    "      - keywords arguments\n",
    "      - requried arguments\n",
    "      - arguments length"
   ]
  },
  {
   "cell_type": "code",
   "execution_count": 1,
   "metadata": {},
   "outputs": [
    {
     "name": "stdout",
     "output_type": "stream",
     "text": [
      "0 0\n",
      "0\n",
      "5 0\n",
      "5\n",
      "6 7\n",
      "13\n"
     ]
    }
   ],
   "source": [
    "# default arguments\n",
    "# ex: range(),print()\n",
    "# range(start,end,incre/decre)\n",
    "def add(num1=0,num2=0):\n",
    "    print(num1,num2)\n",
    "    return num1+num2\n",
    "\n",
    "print(add())\n",
    "print(add(5))\n",
    "print(add(6,7))"
   ]
  },
  {
   "cell_type": "code",
   "execution_count": 2,
   "metadata": {},
   "outputs": [
    {
     "name": "stdout",
     "output_type": "stream",
     "text": [
      "5 4\n",
      "9\n"
     ]
    }
   ],
   "source": [
    "# keyword arguments\n",
    "# ex: print(end='\\n') print(end=\" \")\n",
    "def add1(n1=0,n2=0):\n",
    "    print(n1,n2)\n",
    "    return n1+n2\n",
    "\n",
    "print(add1(4,n2=4))"
   ]
  },
  {
   "cell_type": "code",
   "execution_count": 4,
   "metadata": {},
   "outputs": [
    {
     "name": "stdout",
     "output_type": "stream",
     "text": [
      "9\n"
     ]
    }
   ],
   "source": [
    "# required arguments\n",
    "# range()\n",
    "def add(a,b):\n",
    "        return a+b\n",
    "print(add(4,5))"
   ]
  },
  {
   "cell_type": "code",
   "execution_count": 15,
   "metadata": {},
   "outputs": [
    {
     "name": "stdout",
     "output_type": "stream",
     "text": [
      "<class 'list'>\n",
      "21\n"
     ]
    }
   ],
   "source": [
    "# arguments length\n",
    "def mySum(*args):\n",
    "    sm=0\n",
    "    for i in args:\n",
    "        print(type(i))\n",
    "        for j in i:\n",
    "            sm+=j\n",
    "        return sm\n",
    "li=[1,2,3,4,5,6]\n",
    "print(mySum(li))"
   ]
  },
  {
   "cell_type": "code",
   "execution_count": 16,
   "metadata": {},
   "outputs": [
    {
     "name": "stdout",
     "output_type": "stream",
     "text": [
      "<class 'dict'>\n"
     ]
    }
   ],
   "source": [
    "def myData(**keyargs):\n",
    "    print(type(keyargs))\n",
    "    \n",
    "myData(name='abdul',rollno='123',branch='cse')"
   ]
  },
  {
   "cell_type": "code",
   "execution_count": 17,
   "metadata": {},
   "outputs": [
    {
     "name": "stdout",
     "output_type": "stream",
     "text": [
      "<class 'tuple'>\n"
     ]
    }
   ],
   "source": [
    "def dta(*info):\n",
    "    print(type(info))\n",
    "    \n",
    "dta('abdul','123','cse')"
   ]
  },
  {
   "cell_type": "code",
   "execution_count": null,
   "metadata": {},
   "outputs": [],
   "source": [
    "# perform sum of series which passing by user\n",
    "# i/p: enter nmbers: 1,2,3,5,6\n",
    "#o/p:sum of user data"
   ]
  }
 ],
 "metadata": {
  "kernelspec": {
   "display_name": "Python 3",
   "language": "python",
   "name": "python3"
  },
  "language_info": {
   "codemirror_mode": {
    "name": "ipython",
    "version": 3
   },
   "file_extension": ".py",
   "mimetype": "text/x-python",
   "name": "python",
   "nbconvert_exporter": "python",
   "pygments_lexer": "ipython3",
   "version": "3.7.4"
  }
 },
 "nbformat": 4,
 "nbformat_minor": 4
}
